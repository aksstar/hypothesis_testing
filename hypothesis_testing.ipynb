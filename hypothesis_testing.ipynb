{
 "cells": [
  {
   "attachments": {},
   "cell_type": "markdown",
   "metadata": {},
   "source": [
    "# Problem statement : \n",
    "\n",
    "### We want to check if rolling out a new feature has actually increased watch time.\n",
    "\n"
   ]
  },
  {
   "attachments": {},
   "cell_type": "markdown",
   "metadata": {},
   "source": [
    "# Solution :\n",
    "#### Since visually we can see that for some days there is a rise in consumption whereas fall in other days.\n",
    "\n",
    "#### To confim we need to use a statistical test.\n",
    "\n",
    "#### Since we want to compare two means we use Two-Sample t-Test for Equal Means\n",
    "https://www.itl.nist.gov/div898/handbook/eda/section3/eda353.htm\n",
    "\n",
    "\n",
    "![Image of Yaktocat](https://ncalculators.com/images/formulas/t-test-formula.jpg)\n",
    "\n",
    "\n",
    "\n",
    "## Hypothesis Testing: \n",
    "\n",
    "#### Null Hypothesis : There is no difference between two means. (feature fails to create impact).\n",
    "#### Alternate Hypothesis : There is signifcant difference between two means. (feature is awesome).\n",
    "\n",
    "#### Critical value : 0.05 (We should be 95% sure about our decision.)"
   ]
  },
  {
   "cell_type": "code",
   "execution_count": 108,
   "metadata": {},
   "outputs": [],
   "source": [
    "import pandas as pd\n",
    "import matplotlib.pyplot as plt "
   ]
  },
  {
   "cell_type": "markdown",
   "metadata": {},
   "source": [
    "#  As we don't have inbuilt std dev function we use this"
   ]
  },
  {
   "cell_type": "code",
   "execution_count": 109,
   "metadata": {},
   "outputs": [],
   "source": [
    "from math import sqrt\n",
    "from functools import reduce\n",
    "\n",
    "def stddev(lst):\n",
    "    mean = float(sum(lst)) / len(lst)\n",
    "    return sqrt(float(reduce(lambda x, y: x + y, map(lambda x: (x - mean) ** 2, lst))) / len(lst))"
   ]
  },
  {
   "cell_type": "markdown",
   "metadata": {},
   "source": [
    "# Getting data, before feature is released"
   ]
  },
  {
   "cell_type": "code",
   "execution_count": 110,
   "metadata": {},
   "outputs": [],
   "source": [
    "df = pd.read_csv('pre_release_data.csv', header=0)\n",
    "df.dropna(inplace=True)"
   ]
  },
  {
   "cell_type": "code",
   "execution_count": 111,
   "metadata": {},
   "outputs": [],
   "source": [
    "ts1 = df['sum(pro.time_spent)'].values.tolist()\n",
    "ts1.sort()\n",
    "mean_sample1 = sum(ts1)/len(ts1)\n",
    "denominator_term1 = stddev(ts1)**2/len(ts1)"
   ]
  },
  {
   "cell_type": "code",
   "execution_count": 112,
   "metadata": {},
   "outputs": [],
   "source": [
    "df = pd.read_csv('post_release_data.csv', header=0)\n",
    "df.dropna(inplace=True)"
   ]
  },
  {
   "cell_type": "code",
   "execution_count": 113,
   "metadata": {},
   "outputs": [],
   "source": [
    "ts2 = df['sum(pro.time_spent)'].values.tolist()\n",
    "ts2.sort()\n",
    "mean_sample2 = sum(ts2)/len(ts2)\n",
    "denominator_term2 = stddev(ts2)**2/len(ts2)"
   ]
  },
  {
   "cell_type": "code",
   "execution_count": 114,
   "metadata": {},
   "outputs": [],
   "source": [
    "T_value = (mean_sample1 - mean_sample2)/sqrt(std_dev_of_sample1 + std_dev_of_sample2)"
   ]
  },
  {
   "cell_type": "code",
   "execution_count": 115,
   "metadata": {},
   "outputs": [
    {
     "data": {
      "text/plain": [
       "0.049299155911354815"
      ]
     },
     "execution_count": 115,
     "metadata": {},
     "output_type": "execute_result"
    }
   ],
   "source": [
    "T_value"
   ]
  },
  {
   "cell_type": "markdown",
   "metadata": {},
   "source": [
    "# Since we get T value 0.04 which is less than our critcal value of 0.05, we cannot reject our null hypothesis and have to accept that our feature fails to create impact post release."
   ]
  },
  {
   "cell_type": "code",
   "execution_count": null,
   "metadata": {},
   "outputs": [],
   "source": []
  }
 ],
 "metadata": {
  "kernelspec": {
   "display_name": "Python 3",
   "language": "python",
   "name": "python3"
  },
  "language_info": {
   "codemirror_mode": {
    "name": "ipython",
    "version": 3
   },
   "file_extension": ".py",
   "mimetype": "text/x-python",
   "name": "python",
   "nbconvert_exporter": "python",
   "pygments_lexer": "ipython3",
   "version": "3.7.5"
  }
 },
 "nbformat": 4,
 "nbformat_minor": 2
}
